{
  "nbformat": 4,
  "nbformat_minor": 0,
  "metadata": {
    "colab": {
      "name": "Python Introduction",
      "provenance": [],
      "collapsed_sections": []
    },
    "kernelspec": {
      "name": "python3",
      "display_name": "Python 3"
    }
  },
  "cells": [
    {
      "cell_type": "markdown",
      "metadata": {
        "id": "8IxHDNWX14Pr",
        "colab_type": "text"
      },
      "source": [
        "***Python*** is an interpreted based, high-level, general-purpose programming language introduced by ***Guido van Rossum***. It is easily readable language and unlike other languages such as C-programming, it does not require any curly brackets to delimit blocks. It uses indentation instead. It is a widely-used programming language and it is fun. You will be astonished using this programming language to solve problems.  "
      ]
    },
    {
      "cell_type": "markdown",
      "metadata": {
        "id": "xMHk7TkxW0Tp",
        "colab_type": "text"
      },
      "source": [
        "##Operators"
      ]
    },
    {
      "cell_type": "markdown",
      "metadata": {
        "id": "pjZwbNSm7uW0",
        "colab_type": "text"
      },
      "source": [
        "###Arithmetic Operators + - \\* / // % \\**\n",
        "\n"
      ]
    },
    {
      "cell_type": "markdown",
      "metadata": {
        "id": "hrXytUo_Fa52",
        "colab_type": "text"
      },
      "source": [
        "**Note** - If it is require to print last line in the cell, no need to put the argument inside the print() function."
      ]
    },
    {
      "cell_type": "code",
      "metadata": {
        "id": "w8TW4bApxZeB",
        "colab_type": "code",
        "colab": {}
      },
      "source": [
        "a = 1\n",
        "b = 2\n",
        "sum_ = a+b\n",
        "print(sum_)"
      ],
      "execution_count": null,
      "outputs": []
    },
    {
      "cell_type": "code",
      "metadata": {
        "id": "NLE1Xzde0xWm",
        "colab_type": "code",
        "colab": {
          "base_uri": "https://localhost:8080/",
          "height": 33
        },
        "outputId": "8878e85f-3392-4b97-96b6-4f0bcd77a0ad"
      },
      "source": [
        "5+1  #Addition"
      ],
      "execution_count": null,
      "outputs": [
        {
          "output_type": "execute_result",
          "data": {
            "text/plain": [
              "6"
            ]
          },
          "metadata": {
            "tags": []
          },
          "execution_count": 1
        }
      ]
    },
    {
      "cell_type": "code",
      "metadata": {
        "id": "fBA5uqWxAvT4",
        "colab_type": "code",
        "colab": {
          "base_uri": "https://localhost:8080/",
          "height": 33
        },
        "outputId": "c3bc3c03-43ea-4ea8-82ac-bf9b19ce700a"
      },
      "source": [
        "5-1  #Substraction"
      ],
      "execution_count": null,
      "outputs": [
        {
          "output_type": "execute_result",
          "data": {
            "text/plain": [
              "4"
            ]
          },
          "metadata": {
            "tags": []
          },
          "execution_count": 2
        }
      ]
    },
    {
      "cell_type": "code",
      "metadata": {
        "id": "gcg8yUZ6AssF",
        "colab_type": "code",
        "colab": {
          "base_uri": "https://localhost:8080/",
          "height": 33
        },
        "outputId": "f76423e6-3325-43e6-f133-16d067ff6d02"
      },
      "source": [
        "2*3  #Multiplication"
      ],
      "execution_count": null,
      "outputs": [
        {
          "output_type": "execute_result",
          "data": {
            "text/plain": [
              "6"
            ]
          },
          "metadata": {
            "tags": []
          },
          "execution_count": 3
        }
      ]
    },
    {
      "cell_type": "code",
      "metadata": {
        "id": "_FfGwDL1AuCI",
        "colab_type": "code",
        "colab": {
          "base_uri": "https://localhost:8080/",
          "height": 33
        },
        "outputId": "9e9405e9-1afc-4f95-9136-04992c49c162"
      },
      "source": [
        "9/2  #Floating division(default)"
      ],
      "execution_count": null,
      "outputs": [
        {
          "output_type": "execute_result",
          "data": {
            "text/plain": [
              "4.5"
            ]
          },
          "metadata": {
            "tags": []
          },
          "execution_count": 4
        }
      ]
    },
    {
      "cell_type": "code",
      "metadata": {
        "id": "SqHoyrZYA1-X",
        "colab_type": "code",
        "colab": {
          "base_uri": "https://localhost:8080/",
          "height": 33
        },
        "outputId": "db3cae4a-66dd-47b3-b3ba-c8f62c306cae"
      },
      "source": [
        "9//2 #Floor division"
      ],
      "execution_count": null,
      "outputs": [
        {
          "output_type": "execute_result",
          "data": {
            "text/plain": [
              "4"
            ]
          },
          "metadata": {
            "tags": []
          },
          "execution_count": 5
        }
      ]
    },
    {
      "cell_type": "code",
      "metadata": {
        "id": "BZjHNaYHA3FV",
        "colab_type": "code",
        "colab": {
          "base_uri": "https://localhost:8080/",
          "height": 33
        },
        "outputId": "86f19bb6-de49-4e21-e622-51ea0f684779"
      },
      "source": [
        "9%2  #Mode"
      ],
      "execution_count": null,
      "outputs": [
        {
          "output_type": "execute_result",
          "data": {
            "text/plain": [
              "1"
            ]
          },
          "metadata": {
            "tags": []
          },
          "execution_count": 6
        }
      ]
    },
    {
      "cell_type": "code",
      "metadata": {
        "id": "OY-MMiQsD8q0",
        "colab_type": "code",
        "colab": {
          "base_uri": "https://localhost:8080/",
          "height": 33
        },
        "outputId": "67d8608d-d590-4717-d23f-9bb15c5e88fe"
      },
      "source": [
        "2**10 #Exponentiation"
      ],
      "execution_count": null,
      "outputs": [
        {
          "output_type": "execute_result",
          "data": {
            "text/plain": [
              "1024"
            ]
          },
          "metadata": {
            "tags": []
          },
          "execution_count": 7
        }
      ]
    },
    {
      "cell_type": "code",
      "metadata": {
        "id": "O9WlRBvOM7Ov",
        "colab_type": "code",
        "colab": {
          "base_uri": "https://localhost:8080/",
          "height": 33
        },
        "outputId": "1ae30576-9b64-4584-c415-eec388989fa3"
      },
      "source": [
        "(50 - 5*6) / 4   #Float division with curlybraces"
      ],
      "execution_count": null,
      "outputs": [
        {
          "output_type": "execute_result",
          "data": {
            "text/plain": [
              "5.0"
            ]
          },
          "metadata": {
            "tags": []
          },
          "execution_count": 8
        }
      ]
    },
    {
      "cell_type": "markdown",
      "metadata": {
        "id": "gVkGHWMhR1Gd",
        "colab_type": "text"
      },
      "source": [
        "###Relational Operators == != < > >= <= "
      ]
    },
    {
      "cell_type": "code",
      "metadata": {
        "id": "tgH1nPOQX-xd",
        "colab_type": "code",
        "colab": {
          "base_uri": "https://localhost:8080/",
          "height": 34
        },
        "outputId": "95346c99-9105-4b2b-f4b9-f81005bdb14c"
      },
      "source": [
        "a = 10; b = 4\n",
        "a == b"
      ],
      "execution_count": null,
      "outputs": [
        {
          "output_type": "execute_result",
          "data": {
            "text/plain": [
              "False"
            ]
          },
          "metadata": {
            "tags": []
          },
          "execution_count": 2
        }
      ]
    },
    {
      "cell_type": "code",
      "metadata": {
        "id": "K0xdcN6GYC7h",
        "colab_type": "code",
        "colab": {
          "base_uri": "https://localhost:8080/",
          "height": 34
        },
        "outputId": "768c98dc-ee49-4c47-f798-7de7c9c61bbf"
      },
      "source": [
        "a = 10; b = 4\n",
        "a != b"
      ],
      "execution_count": null,
      "outputs": [
        {
          "output_type": "execute_result",
          "data": {
            "text/plain": [
              "True"
            ]
          },
          "metadata": {
            "tags": []
          },
          "execution_count": 3
        }
      ]
    },
    {
      "cell_type": "code",
      "metadata": {
        "id": "KEZAw8dLYDAO",
        "colab_type": "code",
        "colab": {
          "base_uri": "https://localhost:8080/",
          "height": 33
        },
        "outputId": "cf577094-7061-434d-ebc5-e4667045a5c5"
      },
      "source": [
        "a = 10; b = 4\n",
        "a < b"
      ],
      "execution_count": null,
      "outputs": [
        {
          "output_type": "execute_result",
          "data": {
            "text/plain": [
              "False"
            ]
          },
          "metadata": {
            "tags": []
          },
          "execution_count": 12
        }
      ]
    },
    {
      "cell_type": "code",
      "metadata": {
        "id": "Msjd8720YDC3",
        "colab_type": "code",
        "colab": {
          "base_uri": "https://localhost:8080/",
          "height": 33
        },
        "outputId": "2734cd08-881d-468e-c008-f9eade4ec6d1"
      },
      "source": [
        "a = 10; b = 4\n",
        "a > b"
      ],
      "execution_count": null,
      "outputs": [
        {
          "output_type": "execute_result",
          "data": {
            "text/plain": [
              "True"
            ]
          },
          "metadata": {
            "tags": []
          },
          "execution_count": 13
        }
      ]
    },
    {
      "cell_type": "code",
      "metadata": {
        "id": "xVuWfgCrYDF2",
        "colab_type": "code",
        "colab": {
          "base_uri": "https://localhost:8080/",
          "height": 33
        },
        "outputId": "9de42d40-b269-4afe-a118-b39b3c4f5d25"
      },
      "source": [
        "a = 10; b = 4\n",
        "a >= b"
      ],
      "execution_count": null,
      "outputs": [
        {
          "output_type": "execute_result",
          "data": {
            "text/plain": [
              "True"
            ]
          },
          "metadata": {
            "tags": []
          },
          "execution_count": 14
        }
      ]
    },
    {
      "cell_type": "code",
      "metadata": {
        "id": "zn7yeFbOYDK6",
        "colab_type": "code",
        "colab": {
          "base_uri": "https://localhost:8080/",
          "height": 33
        },
        "outputId": "b89453bc-2ba6-483f-a41a-ed34de38b550"
      },
      "source": [
        "a = 10; b = 4\n",
        "a <= b"
      ],
      "execution_count": null,
      "outputs": [
        {
          "output_type": "execute_result",
          "data": {
            "text/plain": [
              "False"
            ]
          },
          "metadata": {
            "tags": []
          },
          "execution_count": 15
        }
      ]
    },
    {
      "cell_type": "markdown",
      "metadata": {
        "id": "lJCG7rIMYYFs",
        "colab_type": "text"
      },
      "source": [
        "###Assignment Operator = += -= *= /= %= **= //="
      ]
    },
    {
      "cell_type": "code",
      "metadata": {
        "colab_type": "code",
        "id": "wykKjqczgNOC",
        "colab": {}
      },
      "source": [
        "# Assignment operator = assign value from right side operands to left side operand\n",
        "a = 10   # 10 is assign to variable a\n",
        "b = 4    # 4 is assign to variable b\n",
        "c = a+b    # operator \"=\"assign value from right side operands (a +b ) to left side operand  (c)\n",
        "\n"
      ],
      "execution_count": null,
      "outputs": []
    },
    {
      "cell_type": "code",
      "metadata": {
        "colab_type": "code",
        "id": "lw9OztbygNOI",
        "colab": {}
      },
      "source": [
        "  #operator \"+=\" , a += b means a = a + b\n",
        "  #example\n",
        "  a= 10\n",
        "  b=10\n",
        "  a+=b"
      ],
      "execution_count": null,
      "outputs": []
    },
    {
      "cell_type": "code",
      "metadata": {
        "colab_type": "code",
        "id": "8_Xw2BoYgNOK",
        "colab": {}
      },
      "source": [
        "#operator \"-=\" , a -= b means a = a - b\n",
        "#example\n",
        "a= 10\n",
        "b=10\n",
        "a-=b"
      ],
      "execution_count": null,
      "outputs": []
    },
    {
      "cell_type": "code",
      "metadata": {
        "colab_type": "code",
        "id": "dTEhRQq5gNOM",
        "colab": {}
      },
      "source": [
        "#operator \"*=\" , a *= b means a = a * b\n",
        "#example\n",
        "a = 10\n",
        "b = 10\n",
        "a *= b\n"
      ],
      "execution_count": null,
      "outputs": []
    },
    {
      "cell_type": "code",
      "metadata": {
        "colab_type": "code",
        "id": "XX1M2dbMgNON",
        "colab": {}
      },
      "source": [
        "#operator \"/=\" , a /= b means a = a / b\n",
        "#example\n",
        "a = 10\n",
        "b = 10\n",
        "a /= b"
      ],
      "execution_count": null,
      "outputs": []
    },
    {
      "cell_type": "code",
      "metadata": {
        "colab_type": "code",
        "id": "4Ga8UzKfgNOP",
        "colab": {}
      },
      "source": [
        "#operator \"**=\", a **= b means a = a ** b\n",
        "#example\n",
        "a = 10 \n",
        "b = 10\n",
        "a **= b"
      ],
      "execution_count": null,
      "outputs": []
    },
    {
      "cell_type": "code",
      "metadata": {
        "colab_type": "code",
        "id": "vH4VqnoJgNOR",
        "colab": {}
      },
      "source": [
        "#operator \"%=\", a %= b means a = a % b\n",
        "#example\n",
        "a = 10\n",
        "b = 10\n",
        "a %= b"
      ],
      "execution_count": null,
      "outputs": []
    },
    {
      "cell_type": "code",
      "metadata": {
        "colab_type": "code",
        "id": "6UDHh1vZgNOS",
        "colab": {}
      },
      "source": [
        "#operator \"//=\" , a //= b means a = a // b\n",
        "#example\n",
        "a = 10\n",
        "b = 10\n",
        "a //= b"
      ],
      "execution_count": null,
      "outputs": []
    },
    {
      "cell_type": "markdown",
      "metadata": {
        "id": "dkv-ffZ_Y-Rz",
        "colab_type": "text"
      },
      "source": [
        "###Logical Operators \n",
        "\n",
        "\n",
        "\n"
      ]
    },
    {
      "cell_type": "markdown",
      "metadata": {
        "id": "ZwuLiju5g0QP",
        "colab_type": "text"
      },
      "source": [
        "1 . **and**"
      ]
    },
    {
      "cell_type": "code",
      "metadata": {
        "id": "K2bKeWGMifKL",
        "colab_type": "code",
        "colab": {
          "base_uri": "https://localhost:8080/",
          "height": 33
        },
        "outputId": "b254f50d-4bc1-4453-c9ee-246261aaa492"
      },
      "source": [
        "4 > 2 and 5 < 6"
      ],
      "execution_count": null,
      "outputs": [
        {
          "output_type": "execute_result",
          "data": {
            "text/plain": [
              "True"
            ]
          },
          "metadata": {
            "tags": []
          },
          "execution_count": 32
        }
      ]
    },
    {
      "cell_type": "code",
      "metadata": {
        "id": "MEzDHv8LiLZP",
        "colab_type": "code",
        "colab": {
          "base_uri": "https://localhost:8080/",
          "height": 33
        },
        "outputId": "ca7a19a4-e6e5-4b15-ffde-4435e3247e15"
      },
      "source": [
        "4 < 2 and 5 < 6"
      ],
      "execution_count": null,
      "outputs": [
        {
          "output_type": "execute_result",
          "data": {
            "text/plain": [
              "False"
            ]
          },
          "metadata": {
            "tags": []
          },
          "execution_count": 33
        }
      ]
    },
    {
      "cell_type": "markdown",
      "metadata": {
        "id": "1g24sLlOizs7",
        "colab_type": "text"
      },
      "source": [
        "2 . **or**"
      ]
    },
    {
      "cell_type": "code",
      "metadata": {
        "id": "wIMZam4rjTrt",
        "colab_type": "code",
        "colab": {
          "base_uri": "https://localhost:8080/",
          "height": 33
        },
        "outputId": "ee14ff63-cfef-4c02-bf9d-efe0721afc59"
      },
      "source": [
        "66 < 66 or 66 < 67"
      ],
      "execution_count": null,
      "outputs": [
        {
          "output_type": "execute_result",
          "data": {
            "text/plain": [
              "True"
            ]
          },
          "metadata": {
            "tags": []
          },
          "execution_count": 34
        }
      ]
    },
    {
      "cell_type": "code",
      "metadata": {
        "id": "N1rx3dlJjr3I",
        "colab_type": "code",
        "colab": {
          "base_uri": "https://localhost:8080/",
          "height": 33
        },
        "outputId": "f4773b40-6616-480e-f1fe-b5ba98da5ae1"
      },
      "source": [
        "66 < 64 or 66 < 61"
      ],
      "execution_count": null,
      "outputs": [
        {
          "output_type": "execute_result",
          "data": {
            "text/plain": [
              "False"
            ]
          },
          "metadata": {
            "tags": []
          },
          "execution_count": 35
        }
      ]
    },
    {
      "cell_type": "markdown",
      "metadata": {
        "id": "l1DPbDBxkArN",
        "colab_type": "text"
      },
      "source": [
        "3 . **not**"
      ]
    },
    {
      "cell_type": "code",
      "metadata": {
        "id": "eNlbwl0PkkTi",
        "colab_type": "code",
        "colab": {
          "base_uri": "https://localhost:8080/",
          "height": 33
        },
        "outputId": "0dbd0581-4055-4e21-bba1-855f2eb105d7"
      },
      "source": [
        "66 > 63  #without using not"
      ],
      "execution_count": null,
      "outputs": [
        {
          "output_type": "execute_result",
          "data": {
            "text/plain": [
              "True"
            ]
          },
          "metadata": {
            "tags": []
          },
          "execution_count": 36
        }
      ]
    },
    {
      "cell_type": "code",
      "metadata": {
        "id": "4G9FpW_3k1JI",
        "colab_type": "code",
        "colab": {
          "base_uri": "https://localhost:8080/",
          "height": 33
        },
        "outputId": "2a1e2d4b-7ce3-4a23-f408-543a559130e7"
      },
      "source": [
        "not(66 > 63) #using not"
      ],
      "execution_count": null,
      "outputs": [
        {
          "output_type": "execute_result",
          "data": {
            "text/plain": [
              "False"
            ]
          },
          "metadata": {
            "tags": []
          },
          "execution_count": 37
        }
      ]
    },
    {
      "cell_type": "markdown",
      "metadata": {
        "id": "aLDQsm3wYumB",
        "colab_type": "text"
      },
      "source": [
        "###Bitwise Operators\n",
        "* **AND**: &\n",
        "* **OR**: |\n",
        "* **XOR**: ^\n",
        "* **NOT**: ~\n",
        "* **Left shift**: <<\n",
        "* **Right shift**: >>"
      ]
    },
    {
      "cell_type": "markdown",
      "metadata": {
        "id": "g9ZCjdfE5F0g",
        "colab_type": "text"
      },
      "source": [
        "📌**Note**: Please refer truth table to perform bitwise operation"
      ]
    },
    {
      "cell_type": "code",
      "metadata": {
        "id": "1Lyc5Wv_1aOo",
        "colab_type": "code",
        "colab": {
          "base_uri": "https://localhost:8080/",
          "height": 33
        },
        "outputId": "04d6953c-0cb8-45b0-80c5-1b7acf63d1c6"
      },
      "source": [
        "# 2 : 0010\n",
        "# 5 : 0101\n",
        "# 2&5: 0000\n",
        "\n",
        "2&5"
      ],
      "execution_count": 1,
      "outputs": [
        {
          "output_type": "execute_result",
          "data": {
            "text/plain": [
              "0"
            ]
          },
          "metadata": {
            "tags": []
          },
          "execution_count": 1
        }
      ]
    },
    {
      "cell_type": "code",
      "metadata": {
        "id": "7kXdVhk94Siw",
        "colab_type": "code",
        "colab": {
          "base_uri": "https://localhost:8080/",
          "height": 33
        },
        "outputId": "0909e5ea-9ce7-4b5f-c02e-e5ae9e1e8474"
      },
      "source": [
        "# 2 | 5 : 0111\n",
        "\n",
        "2 | 5"
      ],
      "execution_count": 2,
      "outputs": [
        {
          "output_type": "execute_result",
          "data": {
            "text/plain": [
              "7"
            ]
          },
          "metadata": {
            "tags": []
          },
          "execution_count": 2
        }
      ]
    },
    {
      "cell_type": "code",
      "metadata": {
        "id": "B6ApKqKA4mPS",
        "colab_type": "code",
        "colab": {
          "base_uri": "https://localhost:8080/",
          "height": 33
        },
        "outputId": "90ab9e86-fb6b-4035-cc1b-8780369e8f1a"
      },
      "source": [
        "# 2 ^ 5 : 0111\n",
        "\n",
        "2 ^ 5"
      ],
      "execution_count": 3,
      "outputs": [
        {
          "output_type": "execute_result",
          "data": {
            "text/plain": [
              "7"
            ]
          },
          "metadata": {
            "tags": []
          },
          "execution_count": 3
        }
      ]
    },
    {
      "cell_type": "code",
      "metadata": {
        "id": "xPC8xQAM4_ZP",
        "colab_type": "code",
        "colab": {
          "base_uri": "https://localhost:8080/",
          "height": 33
        },
        "outputId": "3a9a10a1-70dd-4c66-ac1a-d2f562f595d8"
      },
      "source": [
        "# Bitwise NOT\n",
        "~2"
      ],
      "execution_count": 4,
      "outputs": [
        {
          "output_type": "execute_result",
          "data": {
            "text/plain": [
              "-3"
            ]
          },
          "metadata": {
            "tags": []
          },
          "execution_count": 4
        }
      ]
    },
    {
      "cell_type": "code",
      "metadata": {
        "id": "F0sKOk-45U0C",
        "colab_type": "code",
        "colab": {
          "base_uri": "https://localhost:8080/",
          "height": 33
        },
        "outputId": "0114714c-ac8b-4c1c-d142-dea5a6a1cbca"
      },
      "source": [
        "# 2 : 0010(2) 1000(8)\n",
        "\n",
        "a = 2\n",
        "a<<2"
      ],
      "execution_count": 7,
      "outputs": [
        {
          "output_type": "execute_result",
          "data": {
            "text/plain": [
              "8"
            ]
          },
          "metadata": {
            "tags": []
          },
          "execution_count": 7
        }
      ]
    },
    {
      "cell_type": "code",
      "metadata": {
        "id": "jPNsZe3aE7XH",
        "colab_type": "code",
        "colab": {
          "base_uri": "https://localhost:8080/",
          "height": 33
        },
        "outputId": "fd12853a-f864-4c75-e232-ccfb2f351745"
      },
      "source": [
        "# 2 : 0010(2) 0000(2)\n",
        "\n",
        "a>>2"
      ],
      "execution_count": 8,
      "outputs": [
        {
          "output_type": "execute_result",
          "data": {
            "text/plain": [
              "0"
            ]
          },
          "metadata": {
            "tags": []
          },
          "execution_count": 8
        }
      ]
    },
    {
      "cell_type": "code",
      "metadata": {
        "id": "Vp_UJOKSmvtP",
        "colab_type": "code",
        "colab": {
          "base_uri": "https://localhost:8080/",
          "height": 33
        },
        "outputId": "ba56e0f7-9188-4e7a-b057-23b0940e6379"
      },
      "source": [
        "x = 12 \n",
        "x << 2"
      ],
      "execution_count": 9,
      "outputs": [
        {
          "output_type": "execute_result",
          "data": {
            "text/plain": [
              "48"
            ]
          },
          "metadata": {
            "tags": []
          },
          "execution_count": 9
        }
      ]
    },
    {
      "cell_type": "code",
      "metadata": {
        "id": "-ZHy7K3tqHXg",
        "colab_type": "code",
        "colab": {
          "base_uri": "https://localhost:8080/",
          "height": 33
        },
        "outputId": "de892bb8-609f-406a-b96c-60927e0598d9"
      },
      "source": [
        "5 ^ 3"
      ],
      "execution_count": 10,
      "outputs": [
        {
          "output_type": "execute_result",
          "data": {
            "text/plain": [
              "6"
            ]
          },
          "metadata": {
            "tags": []
          },
          "execution_count": 10
        }
      ]
    },
    {
      "cell_type": "markdown",
      "metadata": {
        "id": "l14yGS_iBZh2",
        "colab_type": "text"
      },
      "source": [
        "###**Some Basic Functions**"
      ]
    },
    {
      "cell_type": "markdown",
      "metadata": {
        "id": "lbd_pWXaBkqL",
        "colab_type": "text"
      },
      "source": [
        "**print()** - It is use to print the specified messages."
      ]
    },
    {
      "cell_type": "markdown",
      "metadata": {
        "id": "UKhcJzNXG8qc",
        "colab_type": "text"
      },
      "source": [
        "**Note** - # and ''' '''(or \"\"\" \"\"\") are the two ways to represent comment line in python"
      ]
    },
    {
      "cell_type": "code",
      "metadata": {
        "id": "lBXCi26zBEYl",
        "colab_type": "code",
        "colab": {
          "base_uri": "https://localhost:8080/",
          "height": 33
        },
        "outputId": "4eec4b6b-35c9-45f5-dc8a-2f158d451e59"
      },
      "source": [
        "a = 2      \n",
        "b = a*2    \n",
        "'''Python is fun and it does not require to declare varaible before using. A single variable can be used as integer, float, string, list, tuple, etc.'''\n",
        "print(b)"
      ],
      "execution_count": null,
      "outputs": [
        {
          "output_type": "stream",
          "text": [
            "4\n"
          ],
          "name": "stdout"
        }
      ]
    },
    {
      "cell_type": "code",
      "metadata": {
        "id": "0AFowGhKSaVI",
        "colab_type": "code",
        "colab": {
          "base_uri": "https://localhost:8080/",
          "height": 33
        },
        "outputId": "573305ea-400e-4064-a052-70a3a91512c7"
      },
      "source": [
        "a = 45; print(a)  #Multiple Python statement in single line seperated by ;"
      ],
      "execution_count": null,
      "outputs": [
        {
          "output_type": "stream",
          "text": [
            "45\n"
          ],
          "name": "stdout"
        }
      ]
    },
    {
      "cell_type": "code",
      "metadata": {
        "id": "JmDMQ5SgTvpY",
        "colab_type": "code",
        "colab": {
          "base_uri": "https://localhost:8080/",
          "height": 33
        },
        "outputId": "3b1554f2-da21-4268-b301-a9b88bf1bee4"
      },
      "source": [
        "Name,Age='xyz',21                                     #Multiple Assignment\n",
        "print('Name is {} and Age is {}'.format(Name,Age))    #Formatting"
      ],
      "execution_count": null,
      "outputs": [
        {
          "output_type": "stream",
          "text": [
            "Name is xyz and Age is 21\n"
          ],
          "name": "stdout"
        }
      ]
    },
    {
      "cell_type": "code",
      "metadata": {
        "id": "dkdlIbPwUWI_",
        "colab_type": "code",
        "colab": {
          "base_uri": "https://localhost:8080/",
          "height": 33
        },
        "outputId": "498db889-6e23-4a93-d7d3-8649782d8922"
      },
      "source": [
        "age,name = Name,Age                                   #Swapping\n",
        "print('Name is {} and Age is {}'.format(name,age)) "
      ],
      "execution_count": null,
      "outputs": [
        {
          "output_type": "stream",
          "text": [
            "Name is 21 and Age is xyz\n"
          ],
          "name": "stdout"
        }
      ]
    },
    {
      "cell_type": "markdown",
      "metadata": {
        "id": "ukTZrLzmGYMz",
        "colab_type": "text"
      },
      "source": [
        "**input()** - It is used to take input from the user. "
      ]
    },
    {
      "cell_type": "markdown",
      "metadata": {
        "id": "ZgfCBaL8HY4m",
        "colab_type": "text"
      },
      "source": [
        "**Note** - python takes input in the form of string. To get input in integer form pass the input function into int() function. "
      ]
    },
    {
      "cell_type": "code",
      "metadata": {
        "id": "TW-rikGPDK9q",
        "colab_type": "code",
        "colab": {
          "base_uri": "https://localhost:8080/",
          "height": 50
        },
        "outputId": "450bd0c8-d9d9-42a3-87ec-4583e813bb49"
      },
      "source": [
        "a = int(input('Enter your roll number ')) #int() is a function which is use to convert numeric digits into integer.\n",
        "print('Your roll number is',a)            #Python add whitespace between two strings if seperated by ,"
      ],
      "execution_count": null,
      "outputs": [
        {
          "output_type": "stream",
          "text": [
            "Enter your roll number 1\n",
            "Your roll number is 1\n"
          ],
          "name": "stdout"
        }
      ]
    },
    {
      "cell_type": "markdown",
      "metadata": {
        "id": "ScJqEdqPVAfR",
        "colab_type": "text"
      },
      "source": [
        "**type()** - It is used to determine the type of a variable."
      ]
    },
    {
      "cell_type": "code",
      "metadata": {
        "id": "b4-ZsLJcH3jv",
        "colab_type": "code",
        "colab": {
          "base_uri": "https://localhost:8080/",
          "height": 67
        },
        "outputId": "92d492e8-b1cb-494e-8e30-a6c025f88e24"
      },
      "source": [
        "a = 3; b = 'stt'; c = 2.3\n",
        "print(type(a))\n",
        "print(type(b))\n",
        "print(type(c))"
      ],
      "execution_count": null,
      "outputs": [
        {
          "output_type": "stream",
          "text": [
            "<class 'int'>\n",
            "<class 'str'>\n",
            "<class 'float'>\n"
          ],
          "name": "stdout"
        }
      ]
    },
    {
      "cell_type": "markdown",
      "metadata": {
        "id": "1qAQnZFSZYlT",
        "colab_type": "text"
      },
      "source": [
        "**round()** - It rounds the value to a specified number of places. "
      ]
    },
    {
      "cell_type": "code",
      "metadata": {
        "id": "NmSezwkVZXIF",
        "colab_type": "code",
        "colab": {
          "base_uri": "https://localhost:8080/",
          "height": 33
        },
        "outputId": "5422f751-d728-4d1b-d482-fd316c02059c"
      },
      "source": [
        "a = 3.2294\n",
        "print(round(a,2))"
      ],
      "execution_count": null,
      "outputs": [
        {
          "output_type": "stream",
          "text": [
            "3.23\n"
          ],
          "name": "stdout"
        }
      ]
    },
    {
      "cell_type": "markdown",
      "metadata": {
        "id": "YHhQXsNPZzGe",
        "colab_type": "text"
      },
      "source": [
        "**abs()** - It is used to make a value absolute. "
      ]
    },
    {
      "cell_type": "code",
      "metadata": {
        "id": "Sc1WBa0TZXPZ",
        "colab_type": "code",
        "colab": {
          "base_uri": "https://localhost:8080/",
          "height": 50
        },
        "outputId": "f5623d2c-bf8f-428b-d44f-9c17a40493da"
      },
      "source": [
        "a = -4;b = 8\n",
        "print(abs(a))\n",
        "print(abs(b))"
      ],
      "execution_count": null,
      "outputs": [
        {
          "output_type": "stream",
          "text": [
            "4\n",
            "8\n"
          ],
          "name": "stdout"
        }
      ]
    },
    {
      "cell_type": "markdown",
      "metadata": {
        "id": "72iGUMa3qqf0",
        "colab_type": "text"
      },
      "source": [
        "**range()** - It signifies the range of intergers."
      ]
    },
    {
      "cell_type": "code",
      "metadata": {
        "id": "_MGeuD_qZXUt",
        "colab_type": "code",
        "colab": {
          "base_uri": "https://localhost:8080/",
          "height": 33
        },
        "outputId": "013a91bb-59fa-47b8-86e8-c59ad0196307"
      },
      "source": [
        "range(5)"
      ],
      "execution_count": null,
      "outputs": [
        {
          "output_type": "execute_result",
          "data": {
            "text/plain": [
              "range(0, 5)"
            ]
          },
          "metadata": {
            "tags": []
          },
          "execution_count": 11
        }
      ]
    },
    {
      "cell_type": "markdown",
      "metadata": {
        "id": "JTq8tegA-v5K",
        "colab_type": "text"
      },
      "source": [
        "**int()** - It is used to convert numeric digit into integer"
      ]
    },
    {
      "cell_type": "code",
      "metadata": {
        "id": "a_d2qfv__QSz",
        "colab_type": "code",
        "colab": {
          "base_uri": "https://localhost:8080/",
          "height": 34
        },
        "outputId": "aad335de-07b8-43dc-b32f-26d3ff9536cf"
      },
      "source": [
        "int(29.456)"
      ],
      "execution_count": null,
      "outputs": [
        {
          "output_type": "execute_result",
          "data": {
            "text/plain": [
              "29"
            ]
          },
          "metadata": {
            "tags": []
          },
          "execution_count": 4
        }
      ]
    },
    {
      "cell_type": "markdown",
      "metadata": {
        "id": "0K19GqSo_Wun",
        "colab_type": "text"
      },
      "source": [
        "**float()**- It is used to convert numeric digit into floating numer"
      ]
    },
    {
      "cell_type": "code",
      "metadata": {
        "id": "SpQj6HBc_iv2",
        "colab_type": "code",
        "colab": {
          "base_uri": "https://localhost:8080/",
          "height": 34
        },
        "outputId": "75bbc476-74a2-4dea-a8f9-86d85beb08d1"
      },
      "source": [
        "float(23)"
      ],
      "execution_count": null,
      "outputs": [
        {
          "output_type": "execute_result",
          "data": {
            "text/plain": [
              "23.0"
            ]
          },
          "metadata": {
            "tags": []
          },
          "execution_count": 5
        }
      ]
    },
    {
      "cell_type": "markdown",
      "metadata": {
        "id": "Ed_PviuvNfth",
        "colab_type": "text"
      },
      "source": [
        "###String"
      ]
    },
    {
      "cell_type": "markdown",
      "metadata": {
        "id": "zesbdyovNugw",
        "colab_type": "text"
      },
      "source": [
        "**String assignment**"
      ]
    },
    {
      "cell_type": "code",
      "metadata": {
        "id": "nJ4148wlJtZ6",
        "colab_type": "code",
        "colab": {}
      },
      "source": [
        "a = 'Hello, World!'"
      ],
      "execution_count": null,
      "outputs": []
    },
    {
      "cell_type": "markdown",
      "metadata": {
        "id": "QG-XaX04N0HF",
        "colab_type": "text"
      },
      "source": [
        "String Indexing - The indexing of string is start from 0 to n-1(n=length of string)"
      ]
    },
    {
      "cell_type": "code",
      "metadata": {
        "id": "IaXAGa_EN3Tv",
        "colab_type": "code",
        "colab": {
          "base_uri": "https://localhost:8080/",
          "height": 33
        },
        "outputId": "e593d05f-e8c5-4a51-c07f-5b32db15b81b"
      },
      "source": [
        "a[0]"
      ],
      "execution_count": null,
      "outputs": [
        {
          "output_type": "execute_result",
          "data": {
            "text/plain": [
              "'H'"
            ]
          },
          "metadata": {
            "tags": []
          },
          "execution_count": 48
        }
      ]
    },
    {
      "cell_type": "markdown",
      "metadata": {
        "id": "BLDOyaNWOElu",
        "colab_type": "text"
      },
      "source": [
        "Slicing"
      ]
    },
    {
      "cell_type": "code",
      "metadata": {
        "id": "C9Gn-BbuOIBX",
        "colab_type": "code",
        "colab": {
          "base_uri": "https://localhost:8080/",
          "height": 33
        },
        "outputId": "0d396ed8-5599-406e-9160-92b1d99e3dd8"
      },
      "source": [
        "a[0:5]"
      ],
      "execution_count": null,
      "outputs": [
        {
          "output_type": "execute_result",
          "data": {
            "text/plain": [
              "'Hello'"
            ]
          },
          "metadata": {
            "tags": []
          },
          "execution_count": 49
        }
      ]
    },
    {
      "cell_type": "code",
      "metadata": {
        "id": "LTQOzI6EaQ8w",
        "colab_type": "code",
        "colab": {
          "base_uri": "https://localhost:8080/",
          "height": 33
        },
        "outputId": "81da0a85-3a1e-4dd0-a1a8-e9d087deed67"
      },
      "source": [
        "print(a[0:5],'Folk!')"
      ],
      "execution_count": null,
      "outputs": [
        {
          "output_type": "stream",
          "text": [
            "Hello Folk!\n"
          ],
          "name": "stdout"
        }
      ]
    },
    {
      "cell_type": "code",
      "metadata": {
        "id": "YquEPa5HOQ8f",
        "colab_type": "code",
        "colab": {
          "base_uri": "https://localhost:8080/",
          "height": 33
        },
        "outputId": "9237c6aa-f10d-4cba-b5e3-19abead12368"
      },
      "source": [
        "a[7:-1]                         #-1 is use to represent last element of the string, -2 second last, and so on..."
      ],
      "execution_count": null,
      "outputs": [
        {
          "output_type": "execute_result",
          "data": {
            "text/plain": [
              "'World'"
            ]
          },
          "metadata": {
            "tags": []
          },
          "execution_count": 51
        }
      ]
    },
    {
      "cell_type": "markdown",
      "metadata": {
        "id": "9ZzJc2GKauQt",
        "colab_type": "text"
      },
      "source": [
        "Concatenation"
      ]
    },
    {
      "cell_type": "code",
      "metadata": {
        "id": "7S1UOZwpaxK6",
        "colab_type": "code",
        "colab": {
          "base_uri": "https://localhost:8080/",
          "height": 33
        },
        "outputId": "6646d2aa-9288-45a8-af74-2694d6c6344a"
      },
      "source": [
        "F_Name = 'abc'\n",
        "L_Name = 'xyz'\n",
        "print(F_Name+' '+L_Name)"
      ],
      "execution_count": null,
      "outputs": [
        {
          "output_type": "stream",
          "text": [
            "abc xyz\n"
          ],
          "name": "stdout"
        }
      ]
    },
    {
      "cell_type": "markdown",
      "metadata": {
        "id": "Xdc6mIjQKMc3",
        "colab_type": "text"
      },
      "source": [
        "###Importing Libraries - import()"
      ]
    },
    {
      "cell_type": "code",
      "metadata": {
        "id": "r9WTDlfrKPW8",
        "colab_type": "code",
        "colab": {}
      },
      "source": [
        "import numpy as np"
      ],
      "execution_count": null,
      "outputs": []
    },
    {
      "cell_type": "markdown",
      "metadata": {
        "id": "g9dvUw9Vbbrd",
        "colab_type": "text"
      },
      "source": [
        "###**Lists**"
      ]
    },
    {
      "cell_type": "markdown",
      "metadata": {
        "id": "0mZ4tZkVVhs2",
        "colab_type": "text"
      },
      "source": [
        "List are mutable meaning you can change the element of list at any index. "
      ]
    },
    {
      "cell_type": "code",
      "metadata": {
        "id": "T9W3oV7obajW",
        "colab_type": "code",
        "colab": {
          "base_uri": "https://localhost:8080/",
          "height": 33
        },
        "outputId": "37b5864a-7432-4876-eb5f-93d4c0374f27"
      },
      "source": [
        "a = []\n",
        "print(type(a))"
      ],
      "execution_count": null,
      "outputs": [
        {
          "output_type": "stream",
          "text": [
            "<class 'list'>\n"
          ],
          "name": "stdout"
        }
      ]
    },
    {
      "cell_type": "code",
      "metadata": {
        "id": "WFEdq9zLbanq",
        "colab_type": "code",
        "colab": {
          "base_uri": "https://localhost:8080/",
          "height": 33
        },
        "outputId": "19015169-ebf9-455d-c2c0-21101bbdac00"
      },
      "source": [
        "a = ['a','b',34,[23,3],'Hello, World!']\n",
        "print(a)"
      ],
      "execution_count": null,
      "outputs": [
        {
          "output_type": "stream",
          "text": [
            "['a', 'b', 34, [23, 3], 'Hello, World!']\n"
          ],
          "name": "stdout"
        }
      ]
    },
    {
      "cell_type": "markdown",
      "metadata": {
        "id": "2FMALCbCb-7V",
        "colab_type": "text"
      },
      "source": [
        "1. Indexing"
      ]
    },
    {
      "cell_type": "code",
      "metadata": {
        "id": "h9k09oCUbatz",
        "colab_type": "code",
        "colab": {
          "base_uri": "https://localhost:8080/",
          "height": 33
        },
        "outputId": "c879c536-cde4-41a7-d7a8-befccbca5858"
      },
      "source": [
        "a[1]"
      ],
      "execution_count": null,
      "outputs": [
        {
          "output_type": "execute_result",
          "data": {
            "text/plain": [
              "'b'"
            ]
          },
          "metadata": {
            "tags": []
          },
          "execution_count": 58
        }
      ]
    },
    {
      "cell_type": "code",
      "metadata": {
        "id": "3tDZVqxTbaz3",
        "colab_type": "code",
        "colab": {
          "base_uri": "https://localhost:8080/",
          "height": 33
        },
        "outputId": "d77e8820-16fd-4d74-eb60-495647029a80"
      },
      "source": [
        "a[3]"
      ],
      "execution_count": null,
      "outputs": [
        {
          "output_type": "execute_result",
          "data": {
            "text/plain": [
              "[23, 3]"
            ]
          },
          "metadata": {
            "tags": []
          },
          "execution_count": 59
        }
      ]
    },
    {
      "cell_type": "code",
      "metadata": {
        "id": "ycTsaVV5ba2-",
        "colab_type": "code",
        "colab": {
          "base_uri": "https://localhost:8080/",
          "height": 33
        },
        "outputId": "1a50410d-0871-4c05-8499-2d715b4985f1"
      },
      "source": [
        "a[3][1]"
      ],
      "execution_count": null,
      "outputs": [
        {
          "output_type": "execute_result",
          "data": {
            "text/plain": [
              "3"
            ]
          },
          "metadata": {
            "tags": []
          },
          "execution_count": 60
        }
      ]
    },
    {
      "cell_type": "code",
      "metadata": {
        "id": "fRwCzQKLbaxP",
        "colab_type": "code",
        "colab": {
          "base_uri": "https://localhost:8080/",
          "height": 33
        },
        "outputId": "1005c70d-ca1b-49ab-a0ac-7c9d6f6c255e"
      },
      "source": [
        "a[4][7]"
      ],
      "execution_count": null,
      "outputs": [
        {
          "output_type": "execute_result",
          "data": {
            "text/plain": [
              "'W'"
            ]
          },
          "metadata": {
            "tags": []
          },
          "execution_count": 61
        }
      ]
    },
    {
      "cell_type": "code",
      "metadata": {
        "id": "LbhWJ-SVbaqj",
        "colab_type": "code",
        "colab": {
          "base_uri": "https://localhost:8080/",
          "height": 33
        },
        "outputId": "f183497a-5feb-49e6-a8fc-c1398fb31584"
      },
      "source": [
        "a[4][-1]"
      ],
      "execution_count": null,
      "outputs": [
        {
          "output_type": "execute_result",
          "data": {
            "text/plain": [
              "'!'"
            ]
          },
          "metadata": {
            "tags": []
          },
          "execution_count": 62
        }
      ]
    },
    {
      "cell_type": "markdown",
      "metadata": {
        "id": "XyRlKHHncfJX",
        "colab_type": "text"
      },
      "source": [
        "2. Slicing"
      ]
    },
    {
      "cell_type": "code",
      "metadata": {
        "id": "xWfs_7mKcUpL",
        "colab_type": "code",
        "colab": {
          "base_uri": "https://localhost:8080/",
          "height": 33
        },
        "outputId": "e0acbaf4-1d75-49f8-dbea-90776cc750a4"
      },
      "source": [
        "a[4][0:5]"
      ],
      "execution_count": null,
      "outputs": [
        {
          "output_type": "execute_result",
          "data": {
            "text/plain": [
              "'Hello'"
            ]
          },
          "metadata": {
            "tags": []
          },
          "execution_count": 63
        }
      ]
    },
    {
      "cell_type": "markdown",
      "metadata": {
        "id": "jm6-nzH9ckU_",
        "colab_type": "text"
      },
      "source": [
        "3. Functions"
      ]
    },
    {
      "cell_type": "code",
      "metadata": {
        "id": "6vExVBLNcZpG",
        "colab_type": "code",
        "colab": {
          "base_uri": "https://localhost:8080/",
          "height": 33
        },
        "outputId": "8bc8a1ed-20fa-464c-b57a-c93e44358010"
      },
      "source": [
        "len(a)"
      ],
      "execution_count": null,
      "outputs": [
        {
          "output_type": "execute_result",
          "data": {
            "text/plain": [
              "5"
            ]
          },
          "metadata": {
            "tags": []
          },
          "execution_count": 64
        }
      ]
    },
    {
      "cell_type": "code",
      "metadata": {
        "id": "rfdBa_uwcnzI",
        "colab_type": "code",
        "colab": {
          "base_uri": "https://localhost:8080/",
          "height": 50
        },
        "outputId": "a9ff3fa2-bf07-4398-97c5-b6ab7aa5165b"
      },
      "source": [
        "print(min(a[3]))\n",
        "print(max(a[3]))"
      ],
      "execution_count": null,
      "outputs": [
        {
          "output_type": "stream",
          "text": [
            "3\n",
            "23\n"
          ],
          "name": "stdout"
        }
      ]
    },
    {
      "cell_type": "code",
      "metadata": {
        "id": "cP8Q8k_7cqty",
        "colab_type": "code",
        "colab": {
          "base_uri": "https://localhost:8080/",
          "height": 33
        },
        "outputId": "3fc2767b-3366-4c3a-cd87-9aae4a25d4c2"
      },
      "source": [
        "\n",
        "[1,2,3,4] + [2,2,2,2]"
      ],
      "execution_count": null,
      "outputs": [
        {
          "output_type": "execute_result",
          "data": {
            "text/plain": [
              "[1, 2, 3, 4, 2, 2, 2, 2]"
            ]
          },
          "metadata": {
            "tags": []
          },
          "execution_count": 66
        }
      ]
    },
    {
      "cell_type": "code",
      "metadata": {
        "id": "WlSVw9_bc_f1",
        "colab_type": "code",
        "colab": {
          "base_uri": "https://localhost:8080/",
          "height": 33
        },
        "outputId": "dfeb5329-5398-48b8-9013-938a791ef2aa"
      },
      "source": [
        "'a' in a"
      ],
      "execution_count": null,
      "outputs": [
        {
          "output_type": "execute_result",
          "data": {
            "text/plain": [
              "True"
            ]
          },
          "metadata": {
            "tags": []
          },
          "execution_count": 67
        }
      ]
    },
    {
      "cell_type": "code",
      "metadata": {
        "id": "SyP7uwYkdFI1",
        "colab_type": "code",
        "colab": {}
      },
      "source": [
        "a.append('d')  #append() is use to add a element at the end of list."
      ],
      "execution_count": null,
      "outputs": []
    },
    {
      "cell_type": "code",
      "metadata": {
        "id": "zQh7-6widUTT",
        "colab_type": "code",
        "colab": {
          "base_uri": "https://localhost:8080/",
          "height": 33
        },
        "outputId": "c2556b8f-a650-4616-e25f-b57a001fa30a"
      },
      "source": [
        "a.index('d')"
      ],
      "execution_count": null,
      "outputs": [
        {
          "output_type": "execute_result",
          "data": {
            "text/plain": [
              "5"
            ]
          },
          "metadata": {
            "tags": []
          },
          "execution_count": 69
        }
      ]
    },
    {
      "cell_type": "code",
      "metadata": {
        "id": "5VE_sZxndZPp",
        "colab_type": "code",
        "colab": {}
      },
      "source": [
        "a[5] = 'hello'"
      ],
      "execution_count": null,
      "outputs": []
    },
    {
      "cell_type": "code",
      "metadata": {
        "id": "5o7ZI5-fddh9",
        "colab_type": "code",
        "colab": {
          "base_uri": "https://localhost:8080/",
          "height": 33
        },
        "outputId": "ef6d92ca-7187-4e54-8077-27ab8bbbc131"
      },
      "source": [
        "a"
      ],
      "execution_count": null,
      "outputs": [
        {
          "output_type": "execute_result",
          "data": {
            "text/plain": [
              "['a', 'b', 34, [23, 3], 'Hello, World!', 'hello']"
            ]
          },
          "metadata": {
            "tags": []
          },
          "execution_count": 71
        }
      ]
    },
    {
      "cell_type": "markdown",
      "metadata": {
        "id": "y_JiWWJqdoMN",
        "colab_type": "text"
      },
      "source": [
        "other functions are pop(),remove(),reverse(),sort(),etc"
      ]
    },
    {
      "cell_type": "markdown",
      "metadata": {
        "id": "c8t--rvUd53p",
        "colab_type": "text"
      },
      "source": [
        "###**Tuples**"
      ]
    },
    {
      "cell_type": "markdown",
      "metadata": {
        "id": "TBat-rgoHBhU",
        "colab_type": "text"
      },
      "source": [
        "Tuple are very similar to list however , unlike lists they are immutable"
      ]
    },
    {
      "cell_type": "code",
      "metadata": {
        "id": "wmJchTX-IMxd",
        "colab_type": "code",
        "colab": {
          "base_uri": "https://localhost:8080/",
          "height": 33
        },
        "outputId": "e0a338fa-be29-4b6c-8ed3-6477c458861a"
      },
      "source": [
        "#create a tuple \n",
        "tup = (1,2,3,4)\n",
        "tup"
      ],
      "execution_count": null,
      "outputs": [
        {
          "output_type": "execute_result",
          "data": {
            "text/plain": [
              "(1, 2, 3, 4)"
            ]
          },
          "metadata": {
            "tags": []
          },
          "execution_count": 72
        }
      ]
    },
    {
      "cell_type": "markdown",
      "metadata": {
        "id": "HWNeYAQqIqez",
        "colab_type": "text"
      },
      "source": [
        "####**Indexing**"
      ]
    },
    {
      "cell_type": "code",
      "metadata": {
        "id": "3-9gK0H8ImPu",
        "colab_type": "code",
        "colab": {
          "base_uri": "https://localhost:8080/",
          "height": 33
        },
        "outputId": "23e0e4bc-14b8-42c1-db3c-3173b5664365"
      },
      "source": [
        "tup[0]"
      ],
      "execution_count": null,
      "outputs": [
        {
          "output_type": "execute_result",
          "data": {
            "text/plain": [
              "1"
            ]
          },
          "metadata": {
            "tags": []
          },
          "execution_count": 73
        }
      ]
    },
    {
      "cell_type": "code",
      "metadata": {
        "id": "HgziVzNDI2vh",
        "colab_type": "code",
        "colab": {
          "base_uri": "https://localhost:8080/",
          "height": 33
        },
        "outputId": "87bbd744-038a-4268-8d62-4fab5610ee00"
      },
      "source": [
        "tup[1]"
      ],
      "execution_count": null,
      "outputs": [
        {
          "output_type": "execute_result",
          "data": {
            "text/plain": [
              "2"
            ]
          },
          "metadata": {
            "tags": []
          },
          "execution_count": 74
        }
      ]
    },
    {
      "cell_type": "markdown",
      "metadata": {
        "id": "fMY7Vz6xI9B6",
        "colab_type": "text"
      },
      "source": [
        "####**Immutability**"
      ]
    },
    {
      "cell_type": "code",
      "metadata": {
        "id": "zAdzR6QEJQ1o",
        "colab_type": "code",
        "colab": {
          "base_uri": "https://localhost:8080/",
          "height": 162
        },
        "outputId": "81fd81ee-61ab-4ef8-bae0-01b98fca0b8d"
      },
      "source": [
        "tup[0] = \"hair\"       # error will occur due to immutable behaviour of tuple"
      ],
      "execution_count": null,
      "outputs": [
        {
          "output_type": "error",
          "ename": "TypeError",
          "evalue": "ignored",
          "traceback": [
            "\u001b[0;31m---------------------------------------------------------------------------\u001b[0m",
            "\u001b[0;31mTypeError\u001b[0m                                 Traceback (most recent call last)",
            "\u001b[0;32m<ipython-input-75-d977561574ed>\u001b[0m in \u001b[0;36m<module>\u001b[0;34m()\u001b[0m\n\u001b[0;32m----> 1\u001b[0;31m \u001b[0mtup\u001b[0m\u001b[0;34m[\u001b[0m\u001b[0;36m0\u001b[0m\u001b[0;34m]\u001b[0m \u001b[0;34m=\u001b[0m \u001b[0;34m\"hair\"\u001b[0m       \u001b[0;31m# error will occur due to immutable behaviour of tuple\u001b[0m\u001b[0;34m\u001b[0m\u001b[0;34m\u001b[0m\u001b[0m\n\u001b[0m",
            "\u001b[0;31mTypeError\u001b[0m: 'tuple' object does not support item assignment"
          ]
        }
      ]
    },
    {
      "cell_type": "markdown",
      "metadata": {
        "id": "6BugypsVJ_mG",
        "colab_type": "text"
      },
      "source": [
        "**MODIFY TUPLE** - First change into list using list() function and then modify then again change to tuple. Example\n"
      ]
    },
    {
      "cell_type": "code",
      "metadata": {
        "id": "_HUIPvXaKWUI",
        "colab_type": "code",
        "colab": {
          "base_uri": "https://localhost:8080/",
          "height": 33
        },
        "outputId": "75907b80-63f7-4c46-f37f-9b85d41d8456"
      },
      "source": [
        "t = (1,2,3,4) #create tuple\n",
        "t = list(t)   # convert tuple into list using list() function\n",
        "t.append(5)  # add 5 in list t\n",
        "t = tuple(t)  # convert into tuple using tuple() function\n",
        "t"
      ],
      "execution_count": null,
      "outputs": [
        {
          "output_type": "execute_result",
          "data": {
            "text/plain": [
              "(1, 2, 3, 4, 5)"
            ]
          },
          "metadata": {
            "tags": []
          },
          "execution_count": 76
        }
      ]
    },
    {
      "cell_type": "markdown",
      "metadata": {
        "id": "jWhSlbTeWHBS",
        "colab_type": "text"
      },
      "source": [
        "###**Dictionary**"
      ]
    },
    {
      "cell_type": "markdown",
      "metadata": {
        "id": "APr0sjssWMVl",
        "colab_type": "text"
      },
      "source": [
        "Dictionary is one of the beautyful things of Python. You can take advantage of dictionary as a database element extraction in the sense of key-value pairs. "
      ]
    },
    {
      "cell_type": "code",
      "metadata": {
        "id": "ZaFiE24JWLK9",
        "colab_type": "code",
        "colab": {
          "base_uri": "https://localhost:8080/",
          "height": 33
        },
        "outputId": "c53e3b03-6a05-4140-9d74-1c5e27a78d02"
      },
      "source": [
        "d = {}        #Declaration of dictionary remember it is dictionary declaration not a set declaration. \n",
        "d = dict()    #Another way of declaring a dictionary. \n",
        "\n",
        "d = {'one':1,'two':2,'three':3}\n",
        "d"
      ],
      "execution_count": null,
      "outputs": [
        {
          "output_type": "execute_result",
          "data": {
            "text/plain": [
              "{'one': 1, 'three': 3, 'two': 2}"
            ]
          },
          "metadata": {
            "tags": []
          },
          "execution_count": 1
        }
      ]
    },
    {
      "cell_type": "code",
      "metadata": {
        "id": "Y1qqvlBTXW6r",
        "colab_type": "code",
        "colab": {
          "base_uri": "https://localhost:8080/",
          "height": 33
        },
        "outputId": "85dc55cd-4c08-4a66-8a93-dbc9d7fa2079"
      },
      "source": [
        "#Adding a new element to dictionary d\n",
        "d['four'] = 4\n",
        "d['five'] = 5\n",
        "d"
      ],
      "execution_count": null,
      "outputs": [
        {
          "output_type": "execute_result",
          "data": {
            "text/plain": [
              "{'five': 5, 'four': 4, 'one': 1, 'three': 3, 'two': 2}"
            ]
          },
          "metadata": {
            "tags": []
          },
          "execution_count": 2
        }
      ]
    },
    {
      "cell_type": "markdown",
      "metadata": {
        "id": "TtAKTH6KYeL2",
        "colab_type": "text"
      },
      "source": [
        "####**Functions of dictionary**"
      ]
    },
    {
      "cell_type": "markdown",
      "metadata": {
        "id": "-d1b6uuJYsEp",
        "colab_type": "text"
      },
      "source": [
        "**keys()** - It is use to print the keys of a dictionary. "
      ]
    },
    {
      "cell_type": "code",
      "metadata": {
        "id": "mFED_gUiXiEc",
        "colab_type": "code",
        "colab": {
          "base_uri": "https://localhost:8080/",
          "height": 33
        },
        "outputId": "cf28f850-7359-4d2b-8e5d-e250a63297f7"
      },
      "source": [
        "d.keys()"
      ],
      "execution_count": null,
      "outputs": [
        {
          "output_type": "execute_result",
          "data": {
            "text/plain": [
              "dict_keys(['one', 'two', 'three', 'four', 'five'])"
            ]
          },
          "metadata": {
            "tags": []
          },
          "execution_count": 79
        }
      ]
    },
    {
      "cell_type": "markdown",
      "metadata": {
        "id": "uSbc9izYYzCU",
        "colab_type": "text"
      },
      "source": [
        "####**values()** - It is use print the values of a dictionary. "
      ]
    },
    {
      "cell_type": "code",
      "metadata": {
        "id": "hHNpj72CXk2_",
        "colab_type": "code",
        "colab": {
          "base_uri": "https://localhost:8080/",
          "height": 33
        },
        "outputId": "280d6c5b-eb45-43fe-ecd8-286cbcf7d852"
      },
      "source": [
        "d.values()"
      ],
      "execution_count": null,
      "outputs": [
        {
          "output_type": "execute_result",
          "data": {
            "text/plain": [
              "dict_values([1, 2, 3, 4, 5])"
            ]
          },
          "metadata": {
            "tags": []
          },
          "execution_count": 80
        }
      ]
    },
    {
      "cell_type": "markdown",
      "metadata": {
        "id": "odLagsJLY-AA",
        "colab_type": "text"
      },
      "source": [
        "####**items()** - It is use to return a list containing both keys and values but in a list of tuple of key-value of each element. "
      ]
    },
    {
      "cell_type": "code",
      "metadata": {
        "id": "1ZvqrzDgXlsX",
        "colab_type": "code",
        "colab": {
          "base_uri": "https://localhost:8080/",
          "height": 33
        },
        "outputId": "7e6c9c67-5ad7-479a-90fd-307624f96cdc"
      },
      "source": [
        "d.items()"
      ],
      "execution_count": null,
      "outputs": [
        {
          "output_type": "execute_result",
          "data": {
            "text/plain": [
              "dict_items([('one', 1), ('two', 2), ('three', 3), ('four', 4), ('five', 5)])"
            ]
          },
          "metadata": {
            "tags": []
          },
          "execution_count": 81
        }
      ]
    },
    {
      "cell_type": "markdown",
      "metadata": {
        "id": "Ty12UfjJZus5",
        "colab_type": "text"
      },
      "source": [
        "####**pop()** - It is use to remove an element from the dictionary. "
      ]
    },
    {
      "cell_type": "code",
      "metadata": {
        "id": "rrjXxseXZo3j",
        "colab_type": "code",
        "colab": {
          "base_uri": "https://localhost:8080/",
          "height": 33
        },
        "outputId": "68fdedf8-06d1-4db1-fa2e-cb014e972c88"
      },
      "source": [
        "d.pop('two')"
      ],
      "execution_count": null,
      "outputs": [
        {
          "output_type": "execute_result",
          "data": {
            "text/plain": [
              "2"
            ]
          },
          "metadata": {
            "tags": []
          },
          "execution_count": 82
        }
      ]
    },
    {
      "cell_type": "code",
      "metadata": {
        "id": "8KktBBKYZ904",
        "colab_type": "code",
        "colab": {
          "base_uri": "https://localhost:8080/",
          "height": 33
        },
        "outputId": "452135da-b0cc-406d-f0b0-6e56a8930295"
      },
      "source": [
        "d"
      ],
      "execution_count": null,
      "outputs": [
        {
          "output_type": "execute_result",
          "data": {
            "text/plain": [
              "{'five': 5, 'four': 4, 'one': 1, 'three': 3}"
            ]
          },
          "metadata": {
            "tags": []
          },
          "execution_count": 83
        }
      ]
    },
    {
      "cell_type": "markdown",
      "metadata": {
        "id": "gJVDaFDZSgOO",
        "colab_type": "text"
      },
      "source": [
        "###**Control Flow Statement**"
      ]
    },
    {
      "cell_type": "markdown",
      "metadata": {
        "id": "hY1muHP-Spu2",
        "colab_type": "text"
      },
      "source": [
        "####**IF**"
      ]
    },
    {
      "cell_type": "code",
      "metadata": {
        "id": "Bf8xqzcmSBys",
        "colab_type": "code",
        "colab": {
          "base_uri": "https://localhost:8080/",
          "height": 33
        },
        "outputId": "1f99ee3d-5e55-4520-fc99-c6d1b88ac9c5"
      },
      "source": [
        "a = 4\n",
        "if a>2:\n",
        "  print('Hello,World!')"
      ],
      "execution_count": null,
      "outputs": [
        {
          "output_type": "stream",
          "text": [
            "Hello,World!\n"
          ],
          "name": "stdout"
        }
      ]
    },
    {
      "cell_type": "markdown",
      "metadata": {
        "id": "QhU5D9ouS2TT",
        "colab_type": "text"
      },
      "source": [
        "####**IF-ELSE**"
      ]
    },
    {
      "cell_type": "code",
      "metadata": {
        "id": "PXkGKIsAS00n",
        "colab_type": "code",
        "colab": {
          "base_uri": "https://localhost:8080/",
          "height": 33
        },
        "outputId": "90f2b04d-6d05-4249-d607-507b192a054c"
      },
      "source": [
        "if a<3:\n",
        "  print('Hello, World!')\n",
        "else:\n",
        "  print('Python is Amazing!')"
      ],
      "execution_count": null,
      "outputs": [
        {
          "output_type": "stream",
          "text": [
            "Python is Amazing!\n"
          ],
          "name": "stdout"
        }
      ]
    },
    {
      "cell_type": "markdown",
      "metadata": {
        "colab_type": "text",
        "id": "2N_Q9OXnmJPg"
      },
      "source": [
        "####**IF-ELSE ladder**"
      ]
    },
    {
      "cell_type": "code",
      "metadata": {
        "colab_type": "code",
        "id": "crdnOYrCmJPi",
        "colab": {
          "base_uri": "https://localhost:8080/",
          "height": 50
        },
        "outputId": "c319de6a-3ca1-441c-90b8-c98b5963f4ad"
      },
      "source": [
        "if a<5:\n",
        "  print('Hello, World!')\n",
        "  if a<4:\n",
        "    print('Python is Amazing!')\n",
        "  elif a == 4:\n",
        "    print('You got it!')"
      ],
      "execution_count": null,
      "outputs": [
        {
          "output_type": "stream",
          "text": [
            "Hello, World!\n",
            "You got it!\n"
          ],
          "name": "stdout"
        }
      ]
    },
    {
      "cell_type": "markdown",
      "metadata": {
        "id": "jHQDe4cWqICV",
        "colab_type": "text"
      },
      "source": [
        "##**Loops**"
      ]
    },
    {
      "cell_type": "markdown",
      "metadata": {
        "id": "g32eio0mqNFC",
        "colab_type": "text"
      },
      "source": [
        "####**For loop**"
      ]
    },
    {
      "cell_type": "code",
      "metadata": {
        "id": "USguuiXEmfqm",
        "colab_type": "code",
        "colab": {
          "base_uri": "https://localhost:8080/",
          "height": 67
        },
        "outputId": "4a2cc98c-387f-4527-b51e-851b333e82c6"
      },
      "source": [
        "for i in range(3):                \n",
        "  print('Python is amazing!')"
      ],
      "execution_count": null,
      "outputs": [
        {
          "output_type": "stream",
          "text": [
            "Python is amazing!\n",
            "Python is amazing!\n",
            "Python is amazing!\n"
          ],
          "name": "stdout"
        }
      ]
    },
    {
      "cell_type": "markdown",
      "metadata": {
        "colab_type": "text",
        "id": "EqgPnAzFrCNo"
      },
      "source": [
        "####**While loop**"
      ]
    },
    {
      "cell_type": "code",
      "metadata": {
        "id": "aI2UcBZiqgdO",
        "colab_type": "code",
        "colab": {
          "base_uri": "https://localhost:8080/",
          "height": 67
        },
        "outputId": "ca9a06bd-2781-4685-a867-6b1d83d0b367"
      },
      "source": [
        "a = 4\n",
        "while a<7:\n",
        "  print('Python is amazing!')\n",
        "  a+=1                  #Exit condition"
      ],
      "execution_count": null,
      "outputs": [
        {
          "output_type": "stream",
          "text": [
            "Python is amazing!\n",
            "Python is amazing!\n",
            "Python is amazing!\n"
          ],
          "name": "stdout"
        }
      ]
    },
    {
      "cell_type": "code",
      "metadata": {
        "id": "VPohgyW1bJCh",
        "colab_type": "code",
        "colab": {
          "base_uri": "https://localhost:8080/",
          "height": 117
        },
        "outputId": "a52727f1-1f6e-4c08-e0ea-6aa5fa88238b"
      },
      "source": [
        "d = dict()\n",
        "\n",
        "while True:\n",
        "  name = input('Enter your name or \\'end\\' to quit: ')\n",
        "  if name == 'end':\n",
        "    break\n",
        "  roll = int(input('Enter your roll number: '))\n",
        "  d[name] = roll\n",
        "d.items()"
      ],
      "execution_count": null,
      "outputs": [
        {
          "output_type": "stream",
          "text": [
            "Enter your name or 'end' to quit: deepak\n",
            "Enter your roll number: 38\n",
            "Enter your name or 'end' to quit: hritik\n",
            "Enter your roll number: 42\n",
            "Enter your name or 'end' to quit: end\n"
          ],
          "name": "stdout"
        },
        {
          "output_type": "execute_result",
          "data": {
            "text/plain": [
              "dict_items([('deepak', 38), ('hritik', 42)])"
            ]
          },
          "metadata": {
            "tags": []
          },
          "execution_count": 4
        }
      ]
    },
    {
      "cell_type": "markdown",
      "metadata": {
        "colab_type": "text",
        "id": "DdT2tjBoriGb"
      },
      "source": [
        "####**Break**"
      ]
    },
    {
      "cell_type": "markdown",
      "metadata": {
        "id": "k0kFX5_3rpd8",
        "colab_type": "text"
      },
      "source": [
        "It is use to break out of a loop. "
      ]
    },
    {
      "cell_type": "code",
      "metadata": {
        "id": "lcb1H6fDrVJo",
        "colab_type": "code",
        "colab": {
          "base_uri": "https://localhost:8080/",
          "height": 50
        },
        "outputId": "0ea6660b-45be-42e1-f302-be72aee32770"
      },
      "source": [
        "a = 4\n",
        "while a<7:\n",
        "  print('Python is amazing!')\n",
        "  if a == 5:\n",
        "    break\n",
        "  a+=1"
      ],
      "execution_count": null,
      "outputs": [
        {
          "output_type": "stream",
          "text": [
            "Python is amazing!\n",
            "Python is amazing!\n"
          ],
          "name": "stdout"
        }
      ]
    },
    {
      "cell_type": "markdown",
      "metadata": {
        "colab_type": "text",
        "id": "0H0ONlU7sfgo"
      },
      "source": [
        "####**Continue**"
      ]
    },
    {
      "cell_type": "code",
      "metadata": {
        "id": "iILPbnwHr-2k",
        "colab_type": "code",
        "colab": {
          "base_uri": "https://localhost:8080/",
          "height": 183
        },
        "outputId": "2265ef79-f1b1-453d-f0e7-fa508b38520c"
      },
      "source": [
        "for i in range(10):\n",
        "    if i>4:\n",
        "        print(\"Keep going!\")\n",
        "        continue\n",
        "    elif i<7:\n",
        "        print(i)"
      ],
      "execution_count": null,
      "outputs": [
        {
          "output_type": "stream",
          "text": [
            "0\n",
            "1\n",
            "2\n",
            "3\n",
            "4\n",
            "Keep going!\n",
            "Keep going!\n",
            "Keep going!\n",
            "Keep going!\n",
            "Keep going!\n"
          ],
          "name": "stdout"
        }
      ]
    },
    {
      "cell_type": "markdown",
      "metadata": {
        "colab_type": "text",
        "id": "UjM8NS9zs7X8"
      },
      "source": [
        "####**List Comprehension**"
      ]
    },
    {
      "cell_type": "markdown",
      "metadata": {
        "id": "bC34U1OptEOO",
        "colab_type": "text"
      },
      "source": [
        "It is use to generate a list using single line of code. "
      ]
    },
    {
      "cell_type": "code",
      "metadata": {
        "id": "CIIYRVa2sw9U",
        "colab_type": "code",
        "colab": {
          "base_uri": "https://localhost:8080/",
          "height": 33
        },
        "outputId": "cf7c921e-d48f-4e72-a36e-a8f16fc4254e"
      },
      "source": [
        "[2**x for x in range(11)]"
      ],
      "execution_count": null,
      "outputs": [
        {
          "output_type": "execute_result",
          "data": {
            "text/plain": [
              "[1, 2, 4, 8, 16, 32, 64, 128, 256, 512, 1024]"
            ]
          },
          "metadata": {
            "tags": []
          },
          "execution_count": 18
        }
      ]
    },
    {
      "cell_type": "markdown",
      "metadata": {
        "id": "QIyguD5BJugx",
        "colab_type": "text"
      },
      "source": [
        "###**Function Defination**"
      ]
    },
    {
      "cell_type": "code",
      "metadata": {
        "id": "c_EL_fn2Jwgf",
        "colab_type": "code",
        "colab": {
          "base_uri": "https://localhost:8080/",
          "height": 33
        },
        "outputId": "59802d80-4f79-42fb-b87b-a64e683337b6"
      },
      "source": [
        "def add():\n",
        "  a = 4\n",
        "  b = 3\n",
        "  return a + b\n",
        "\n",
        "print(add())"
      ],
      "execution_count": null,
      "outputs": [
        {
          "output_type": "stream",
          "text": [
            "7\n"
          ],
          "name": "stdout"
        }
      ]
    },
    {
      "cell_type": "code",
      "metadata": {
        "id": "v5cxX2NitP73",
        "colab_type": "code",
        "colab": {
          "base_uri": "https://localhost:8080/",
          "height": 33
        },
        "outputId": "ac7f68ec-507d-46bf-e90d-9997f6a5c735"
      },
      "source": [
        "def implicit(a,b=4):\n",
        "  return a+b\n",
        "\n",
        "a = 3\n",
        "implicit(a)"
      ],
      "execution_count": null,
      "outputs": [
        {
          "output_type": "execute_result",
          "data": {
            "text/plain": [
              "7"
            ]
          },
          "metadata": {
            "tags": []
          },
          "execution_count": 20
        }
      ]
    },
    {
      "cell_type": "code",
      "metadata": {
        "id": "cQ7m9bsRuw41",
        "colab_type": "code",
        "colab": {
          "base_uri": "https://localhost:8080/",
          "height": 33
        },
        "outputId": "8b9d9e90-6286-490a-8369-639c6a1de536"
      },
      "source": [
        "def implicit(a,b=4):\n",
        "  return a+b\n",
        "\n",
        "a = 3\n",
        "implicit(a,6)"
      ],
      "execution_count": null,
      "outputs": [
        {
          "output_type": "execute_result",
          "data": {
            "text/plain": [
              "9"
            ]
          },
          "metadata": {
            "tags": []
          },
          "execution_count": 21
        }
      ]
    },
    {
      "cell_type": "markdown",
      "metadata": {
        "colab_type": "text",
        "id": "Xe604eGBu9Ot"
      },
      "source": [
        "###**Lambda Function**"
      ]
    },
    {
      "cell_type": "code",
      "metadata": {
        "id": "rZJzpm7RusEK",
        "colab_type": "code",
        "colab": {
          "base_uri": "https://localhost:8080/",
          "height": 33
        },
        "outputId": "c1752984-9048-47c6-a300-8abd21f5b11d"
      },
      "source": [
        "x = lambda i:i*i\n",
        "x(4)"
      ],
      "execution_count": null,
      "outputs": [
        {
          "output_type": "execute_result",
          "data": {
            "text/plain": [
              "16"
            ]
          },
          "metadata": {
            "tags": []
          },
          "execution_count": 28
        }
      ]
    },
    {
      "cell_type": "code",
      "metadata": {
        "id": "aapR1v3OJBjU",
        "colab_type": "code",
        "colab": {
          "base_uri": "https://localhost:8080/",
          "height": 33
        },
        "outputId": "40fd8be7-369b-42e3-c9a9-a81b358e59fd"
      },
      "source": [
        "a = lambda a,b:a+b\n",
        "a(2,3)"
      ],
      "execution_count": null,
      "outputs": [
        {
          "output_type": "execute_result",
          "data": {
            "text/plain": [
              "5"
            ]
          },
          "metadata": {
            "tags": []
          },
          "execution_count": 1
        }
      ]
    }
  ]
}